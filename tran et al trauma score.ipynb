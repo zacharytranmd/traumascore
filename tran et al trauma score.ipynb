{
 "cells": [
  {
   "cell_type": "code",
   "execution_count": null,
   "metadata": {},
   "outputs": [],
   "source": [
    "##import necessary packages\n",
    "\n",
    "import pandas as pd\n",
    "import numpy as np\n",
    "import matplotlib.pyplot as plt\n",
    "import seaborn as sns\n",
    "from sklearn.model_selection import train_test_split, StratifiedShuffleSplit\n",
    "from sklearn.feature_selection import RFECV\n",
    "from sklearn.linear_model import LogisticRegression\n",
    "import xgboost as xgboost\n",
    "from xgboost import XGBClassifier\n",
    "from sklearn.calibration import calibration_curve\n",
    "from sklearn.metrics import auc, roc_curve, recall_score, precision_score, balanced_accuracy_score, brier_score_loss\n"
   ]
  },
  {
   "cell_type": "code",
   "execution_count": null,
   "metadata": {},
   "outputs": [],
   "source": [
    "xgbcomplete = XGBClassifier(learning_rate = 0.3, n_estimators=100, objective='binary:logistic', reg_alpha=1)"
   ]
  },
  {
   "cell_type": "code",
   "execution_count": null,
   "metadata": {},
   "outputs": [],
   "source": [
    "filename = 'revisions 2/injury variables only.csv'\n",
    "complete_data = pd.read_csv(filename, header=0)\n",
    "complete_data.head()"
   ]
  },
  {
   "cell_type": "code",
   "execution_count": null,
   "metadata": {},
   "outputs": [],
   "source": [
    "##injury model\n",
    "\n",
    "X_data_comp = complete_data.drop(['mortality', 'inc_key'], axis = 1)\n",
    "y_data_comp = complete_data['mortality']\n",
    "\n",
    "auc_scores = []\n",
    "recall_scores = []\n",
    "precision_scores = []\n",
    "ba_scores = []\n",
    "brier_scores = []\n",
    "\n",
    "sss = StratifiedShuffleSplit(n_splits=10, test_size=0.50)\n",
    "    \n",
    "sss.get_n_splits(X_data_comp, y_data_comp)\n",
    "    \n",
    "for train_index, test_index in sss.split(X_data_comp, y_data_comp):\n",
    "    X_train_CV, X_test_CV = X_data_comp.iloc[train_index], X_data_comp.iloc[test_index]\n",
    "    y_train_CV, y_test_CV = y_data_comp.iloc[train_index], y_data_comp.iloc[test_index]\n",
    "    \n",
    "    xgbcomplete.fit(X_train_CV, y_train_CV)\n",
    "    \n",
    "    y_test_preds = xgbcomplete.predict(X_test_CV)\n",
    "    y_test_proba = xgbcomplete.predict_proba(X_test_CV)[:,1]\n",
    "    test_FPR, test_TPR, test_threshold = roc_curve(y_test_CV, y_test_proba)\n",
    "    auc_scores.append(auc(test_FPR, test_TPR))\n",
    "    recall_scores.append(recall_score(y_test_CV, y_test_preds))\n",
    "    precision_scores.append(precision_score(y_test_CV, y_test_preds))\n",
    "    ba_scores.append(balanced_accuracy_score(y_test_CV, y_test_preds))\n",
    "    brier_scores.append(brier_score_loss(y_test_CV, y_test_preds))\n",
    "    \n",
    "print(np.mean(auc_scores))\n",
    "print(np.std(auc_scores))\n",
    "\n",
    "print(np.mean(recall_scores))\n",
    "print(np.std(recall_scores))\n",
    "\n",
    "print(np.mean(precision_scores))\n",
    "print(np.std(precision_scores))\n",
    "\n",
    "print(np.mean(ba_scores))\n",
    "print(np.std(ba_scores))\n",
    "\n",
    "print(np.mean(brier_scores))\n",
    "print(np.std(brier_scores))"
   ]
  },
  {
   "cell_type": "code",
   "execution_count": null,
   "metadata": {},
   "outputs": [],
   "source": [
    "##how to apply this model to external data with injury variables already defined\n",
    "\n",
    "data = 'external data.csv'\n",
    "X_data_external = data.drop(['patient_identifier'], axis=1)\n",
    "\n",
    "predicted_mortality = xgbcomplete.predict_proba(X_data_external)\n",
    "\n",
    "predicted_mortality.to_csv('predicted.csv')\n",
    "\n",
    "##load data into statistical software of choice"
   ]
  }
 ],
 "metadata": {
  "kernelspec": {
   "display_name": "Python 3",
   "language": "python",
   "name": "python3"
  },
  "language_info": {
   "codemirror_mode": {
    "name": "ipython",
    "version": 3
   },
   "file_extension": ".py",
   "mimetype": "text/x-python",
   "name": "python",
   "nbconvert_exporter": "python",
   "pygments_lexer": "ipython3",
   "version": "3.8.3"
  }
 },
 "nbformat": 4,
 "nbformat_minor": 4
}
